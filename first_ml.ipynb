{
 "cells": [
  {
   "cell_type": "code",
   "execution_count": 67,
   "metadata": {},
   "outputs": [],
   "source": [
    "# Simple ml program"
   ]
  },
  {
   "cell_type": "code",
   "execution_count": 68,
   "metadata": {},
   "outputs": [],
   "source": [
    "# Importing dependencies\n",
    "from sklearn.linear_model import LinearRegression\n",
    "import random"
   ]
  },
  {
   "cell_type": "code",
   "execution_count": 69,
   "metadata": {},
   "outputs": [],
   "source": [
    "# Create two empty list\n",
    "feature_set = []\n",
    "target_set = []"
   ]
  },
  {
   "cell_type": "code",
   "execution_count": 70,
   "metadata": {},
   "outputs": [],
   "source": [
    "## get the number of rows for the data set\n",
    "number_of_rows = 200\n",
    "\n",
    "## Limit the data (possible values)\n",
    "random_number_limit = 200"
   ]
  },
  {
   "cell_type": "code",
   "execution_count": 71,
   "metadata": {},
   "outputs": [],
   "source": [
    "## Creating the data set\n",
    "\n",
    "## feature data set\n",
    "\n",
    "for i in range(0, number_of_rows):\n",
    "    ## columns\n",
    "    x = random.randint(0, random_number_limit)\n",
    "    y = random.randint(0, random_number_limit)\n",
    "    z = random.randint(0, random_number_limit)\n",
    "    \n",
    "    \n",
    "    # creating a linear function for the target data set\n",
    "    function = (10*x)+(2*y)+(3*z)\n",
    "    \n",
    "    ## appending the data to the list\n",
    "    \n",
    "    feature_set.append([x,y,z])\n",
    "    target_set.append(function)"
   ]
  },
  {
   "cell_type": "code",
   "execution_count": 72,
   "metadata": {},
   "outputs": [
    {
     "data": {
      "text/plain": [
       "LinearRegression()"
      ]
     },
     "execution_count": 72,
     "metadata": {},
     "output_type": "execute_result"
    }
   ],
   "source": [
    "## creating the linear regression model\n",
    "\n",
    "model = LinearRegression()\n",
    "model.fit(feature_set, target_set)"
   ]
  },
  {
   "cell_type": "code",
   "execution_count": 76,
   "metadata": {},
   "outputs": [
    {
     "name": "stdout",
     "output_type": "stream",
     "text": [
      "[[4, 5, 6]]\n"
     ]
    }
   ],
   "source": [
    "## Test data set\n",
    "test_set = [[4,5,6]] ## expected output = function(4,5,6) = (10*4)+(2*5)+(3*6)\n",
    "\n",
    "prediction = model.predict(test_set)\n",
    "print(test_set)"
   ]
  },
  {
   "cell_type": "code",
   "execution_count": 77,
   "metadata": {},
   "outputs": [
    {
     "name": "stdout",
     "output_type": "stream",
     "text": [
      "Prediction:[68.]\tCoefficient:[10.  2.  3.]\n"
     ]
    }
   ],
   "source": [
    "print('Prediction:'+str(prediction)+'\\t'+ 'Coefficient:'+str(model.coef_))"
   ]
  },
  {
   "cell_type": "code",
   "execution_count": null,
   "metadata": {},
   "outputs": [],
   "source": []
  }
 ],
 "metadata": {
  "kernelspec": {
   "display_name": "Python 3",
   "language": "python",
   "name": "python3"
  },
  "language_info": {
   "codemirror_mode": {
    "name": "ipython",
    "version": 3
   },
   "file_extension": ".py",
   "mimetype": "text/x-python",
   "name": "python",
   "nbconvert_exporter": "python",
   "pygments_lexer": "ipython3",
   "version": "3.8.5"
  }
 },
 "nbformat": 4,
 "nbformat_minor": 4
}
